{
 "cells": [
  {
   "cell_type": "code",
   "execution_count": 1,
   "id": "a1eeecba-5b96-4c7c-9a24-3ae1f41b5bd1",
   "metadata": {},
   "outputs": [],
   "source": [
    "import pandas as pd"
   ]
  },
  {
   "cell_type": "markdown",
   "id": "46f28b8d-5007-4ec0-aff3-d4a5d6d3c52d",
   "metadata": {},
   "source": [
    "# EXTRACT XML AND EXPORT TO CSV"
   ]
  },
  {
   "cell_type": "code",
   "execution_count": 2,
   "id": "c89c6db0-6ebd-4ab1-97ad-369c883788a5",
   "metadata": {},
   "outputs": [],
   "source": [
    "# xslt_all extracted all column and all attributes and nested attributes\n",
    "xslt_all = '''<?xml version=\"1.0\"?>\n",
    "<xsl:stylesheet version=\"1.0\"\n",
    "xmlns:xsl=\"http://www.w3.org/1999/XSL/Transform\">\n",
    "\n",
    "<xsl:template match=\"/\">\n",
    "    <xsl:for-each select = \"CONSOLIDATED_LIST/INDIVIDUALS/INDIVIDUAL\">\n",
    "    <INDIVIDUAL>\n",
    "        <DATAID><xsl:value-of select=\"DATAID\"/></DATAID>\n",
    "        <VERSIONNUM><xsl:value-of select=\"VERSIONNUM\"/></VERSIONNUM>\n",
    "        <FIRST_NAME><xsl:value-of select=\"FIRST_NAME\"/></FIRST_NAME>\n",
    "        <SECOND_NAME><xsl:value-of select=\"SECOND_NAME\"/></SECOND_NAME>\n",
    "        <THIRD_NAME><xsl:value-of select=\"THIRD_NAME\"/></THIRD_NAME>\n",
    "        <UN_LIST_TYPE><xsl:value-of select=\"UN_LIST_TYPE\"/></UN_LIST_TYPE>\n",
    "        <REFERENCE_NUMBER><xsl:value-of select=\"REFERENCE_NUMBER\"/></REFERENCE_NUMBER>\n",
    "        <LISTED_ON><xsl:value-of select=\"LISTED_ON\"/></LISTED_ON>\n",
    "        <NAME_ORIGINAL_SCRIPT><xsl:value-of select=\"NAME_ORIGINAL_SCRIPT\"/></NAME_ORIGINAL_SCRIPT>\n",
    "        <COMMENTS1><xsl:value-of select=\"COMMENTS1\"/></COMMENTS1>\n",
    "        <TITLE><xsl:value-of select=\"TITLE/VALUE\"/></TITLE>\n",
    "        \n",
    "        <DESIGNATION> \n",
    "            <xsl:for-each select=\"DESIGNATION/VALUE\">\n",
    "                <xsl:value-of select=\".\"/>,&#032;\n",
    "            </xsl:for-each>    \n",
    "        </DESIGNATION>\n",
    "        \n",
    "        <NATIONALITY> <xsl:value-of select=\"NATIONALITY/VALUE\"/></NATIONALITY>\n",
    "        <LIST_TYPE> <xsl:value-of select=\"LIST_TYPE/VALUE\"/></LIST_TYPE>\n",
    "        \n",
    "        <LAST_DAY_UPDATED> \n",
    "            <xsl:for-each select=\"LAST_DAY_UPDATED/VALUE\">\n",
    "                <xsl:value-of select=\".\"/>,&#032;\n",
    "            </xsl:for-each>\n",
    "        </LAST_DAY_UPDATED>\n",
    "        <INDIVIDUAL_ALIAS> \n",
    "            <xsl:for-each select=\"INDIVIDUAL_ALIAS\">\n",
    "                <xsl:value-of select=\".\"/>,&#032;\n",
    "            </xsl:for-each>\n",
    "        </INDIVIDUAL_ALIAS>\n",
    "     \n",
    "        <INDIVIDUAL_ADDRESS> <xsl:value-of select=\"INDIVIDUAL_ADDRESS/VALUE\"/></INDIVIDUAL_ADDRESS>\n",
    "        <INDIVIDUAL_DATE_OF_BIRTH><xsl:value-of select=\"INDIVIDUAL_DATE_OF_BIRTH/TYPE_OF_DATE\"/>,&#032;<xsl:value-of select=\"INDIVIDUAL_DATE_OF_BIRTH/YEAR\"/></INDIVIDUAL_DATE_OF_BIRTH>\n",
    "        <INDIVIDUAL_PLACE_OF_BIRTH><xsl:value-of select=\"INDIVIDUAL_PLACE_OF_BIRTH/CITY\"/>,&#032;<xsl:value-of select=\"INDIVIDUAL_PLACE_OF_BIRTH/STATE_PROVINCE\"/>,&#032;<xsl:value-of select=\"INDIVIDUAL_PLACE_OF_BIRTH/COUNTRY\"/></INDIVIDUAL_PLACE_OF_BIRTH>\n",
    "    </INDIVIDUAL>\n",
    "    </xsl:for-each>\n",
    "    <xsl:for-each select = \"CONSOLIDATED_LIST/ENTITIES/ENTITY\">\n",
    "    <ENTITY>\n",
    "        <DATAID><xsl:value-of select=\"DATAID\"/></DATAID>\n",
    "        <VERSIONNUM><xsl:value-of select=\"VERSIONNUM\"/></VERSIONNUM>\n",
    "        <FIRST_NAME><xsl:value-of select=\"FIRST_NAME\"/></FIRST_NAME>\n",
    "        \n",
    "        <UN_LIST_TYPE><xsl:value-of select=\"UN_LIST_TYPE\"/></UN_LIST_TYPE>\n",
    "        <REFERENCE_NUMBER><xsl:value-of select=\"REFERENCE_NUMBER\"/></REFERENCE_NUMBER>\n",
    "        <LISTED_ON><xsl:value-of select=\"LISTED_ON\"/></LISTED_ON>\n",
    "        \n",
    "        <COMMENTS1><xsl:value-of select=\"COMMENTS1\"/></COMMENTS1>\n",
    "\n",
    "        <LIST_TYPE> <xsl:value-of select=\"LIST_TYPE/VALUE\"/></LIST_TYPE>\n",
    "        \n",
    "        <LAST_DAY_UPDATED> \n",
    "            <xsl:for-each select=\"LAST_DAY_UPDATED/VALUE\">\n",
    "                <xsl:value-of select=\".\"/>,&#032;\n",
    "            </xsl:for-each>\n",
    "        </LAST_DAY_UPDATED>\n",
    "        <ENTITY_ALIAS> \n",
    "            <xsl:for-each select=\"ENTITY_ALIAS\">\n",
    "                <xsl:value-of select=\".\"/>,&#032;\n",
    "            </xsl:for-each>\n",
    "        </ENTITY_ALIAS>\n",
    "        \n",
    "        <ENTITY_ADDRESS> \n",
    "             <xsl:for-each select=\"ENTITY_ADDRESS\">\n",
    "                <xsl:value-of select=\".\"/>,&#032;\n",
    "            </xsl:for-each>\n",
    "        </ENTITY_ADDRESS>\n",
    "        \n",
    "    </ENTITY>\n",
    "    </xsl:for-each>\n",
    "</xsl:template>\n",
    "    \n",
    "</xsl:stylesheet>'''"
   ]
  },
  {
   "cell_type": "markdown",
   "id": "8b4cb2d4-0ab3-4801-b5c8-c8e8484ca00e",
   "metadata": {},
   "source": [
    "## READ XML FILE AND CREATE CSV WITH XPATH AND CUSTOMIZED STYLESHEET"
   ]
  },
  {
   "cell_type": "code",
   "execution_count": 3,
   "id": "089b9683-6c82-4784-9f93-eaf24e9321dd",
   "metadata": {},
   "outputs": [],
   "source": [
    "Nov142023E = pd.read_xml('14Nov2023.xml', xpath='//ENTITY', stylesheet=xslt_all)"
   ]
  },
  {
   "cell_type": "code",
   "execution_count": 4,
   "id": "d8cafb72-f4e3-45d7-bb19-fbbf06468e91",
   "metadata": {},
   "outputs": [],
   "source": [
    "Oct192023E = pd.read_xml('19Oct2023.xml', xpath='//ENTITY', stylesheet=xslt_all)"
   ]
  },
  {
   "cell_type": "code",
   "execution_count": 5,
   "id": "0b863f17-764a-4d2c-a70e-c0ade8538a73",
   "metadata": {},
   "outputs": [],
   "source": [
    "Nov142023E.to_csv(\"C:\\\\Users\\\\acer\\\\Desktop\\\\nov14entity.csv\", index = False)"
   ]
  },
  {
   "cell_type": "code",
   "execution_count": 6,
   "id": "733af760-4499-4eb8-b46a-c8a690094821",
   "metadata": {},
   "outputs": [],
   "source": [
    "Oct192023E.to_csv('C:\\\\Users\\\\acer\\\\Desktop\\\\oct19entity.csv', index = False)"
   ]
  },
  {
   "cell_type": "code",
   "execution_count": 7,
   "id": "db39a5be-aa4d-458a-b0d7-d25e7af63414",
   "metadata": {},
   "outputs": [],
   "source": [
    "Nov142023I = pd.read_xml('14Nov2023.xml', xpath='//INDIVIDUAL', stylesheet=xslt_all)"
   ]
  },
  {
   "cell_type": "code",
   "execution_count": 8,
   "id": "f6916598-a460-4357-98aa-d5cd765d67dc",
   "metadata": {},
   "outputs": [],
   "source": [
    "Oct192023I = pd.read_xml('19Oct2023.xml', xpath='//INDIVIDUAL', stylesheet=xslt_all)"
   ]
  },
  {
   "cell_type": "code",
   "execution_count": 9,
   "id": "24e81211-6b14-4ae5-bd99-62d61dc2cd1d",
   "metadata": {},
   "outputs": [],
   "source": [
    "Nov142023I.to_csv(\"C:\\\\Users\\\\acer\\\\Desktop\\\\nov14indiv.csv\", index = False)"
   ]
  },
  {
   "cell_type": "code",
   "execution_count": 10,
   "id": "ebf3d8d6-6371-4cea-8435-c6b42ed3675f",
   "metadata": {},
   "outputs": [],
   "source": [
    "Oct192023I.to_csv('C:\\\\Users\\\\acer\\\\Desktop\\\\oct19indiv.csv', index = False)"
   ]
  },
  {
   "cell_type": "markdown",
   "id": "8802ea4c-75c9-461e-874f-a4963955bd60",
   "metadata": {},
   "source": [
    "# DEC 19 2023"
   ]
  },
  {
   "cell_type": "code",
   "execution_count": 39,
   "id": "c02007c9-e855-4fed-b664-d72b59db0adb",
   "metadata": {},
   "outputs": [],
   "source": [
    "# xslt_all extracted all column and all attributes and nested attributes\n",
    "xslt_all = '''<?xml version=\"1.0\"?>\n",
    "<xsl:stylesheet version=\"1.0\"\n",
    "xmlns:xsl=\"http://www.w3.org/1999/XSL/Transform\">\n",
    "\n",
    "<xsl:template match=\"/\">\n",
    "    <xsl:for-each select = \"CONSOLIDATED_LIST/INDIVIDUALS/INDIVIDUAL\">\n",
    "    <INDIVIDUAL>\n",
    "        <DATAID><xsl:value-of select=\"DATAID\"/></DATAID>\n",
    "        <VERSIONNUM><xsl:value-of select=\"VERSIONNUM\"/></VERSIONNUM>\n",
    "        <FIRST_NAME><xsl:value-of select=\"FIRST_NAME\"/></FIRST_NAME>\n",
    "        <SECOND_NAME><xsl:value-of select=\"SECOND_NAME\"/></SECOND_NAME>\n",
    "        <THIRD_NAME><xsl:value-of select=\"THIRD_NAME\"/></THIRD_NAME>\n",
    "        <UN_LIST_TYPE><xsl:value-of select=\"UN_LIST_TYPE\"/></UN_LIST_TYPE>\n",
    "        <REFERENCE_NUMBER><xsl:value-of select=\"REFERENCE_NUMBER\"/></REFERENCE_NUMBER>\n",
    "        <LISTED_ON><xsl:value-of select=\"LISTED_ON\"/></LISTED_ON>\n",
    "        <NAME_ORIGINAL_SCRIPT><xsl:value-of select=\"NAME_ORIGINAL_SCRIPT\"/></NAME_ORIGINAL_SCRIPT>\n",
    "        <COMMENTS1><xsl:value-of select=\"COMMENTS1\"/></COMMENTS1>\n",
    "        <TITLE><xsl:value-of select=\"TITLE/VALUE\"/></TITLE>\n",
    "        \n",
    "        <DESIGNATION> \n",
    "            <xsl:for-each select=\"DESIGNATION/VALUE\">\n",
    "                <xsl:value-of select=\".\"/>,&#032;\n",
    "            </xsl:for-each>    \n",
    "        </DESIGNATION>\n",
    "        \n",
    "        <NATIONALITY> <xsl:value-of select=\"NATIONALITY/VALUE\"/></NATIONALITY>\n",
    "        <LIST_TYPE> <xsl:value-of select=\"LIST_TYPE/VALUE\"/></LIST_TYPE>\n",
    "        \n",
    "        <LAST_DAY_UPDATED> \n",
    "            <xsl:for-each select=\"LAST_DAY_UPDATED/VALUE\">\n",
    "                <xsl:value-of select=\".\"/>,&#032;\n",
    "            </xsl:for-each>\n",
    "        </LAST_DAY_UPDATED>\n",
    "        <INDIVIDUAL_ALIAS> \n",
    "            <xsl:for-each select=\"INDIVIDUAL_ALIAS\">\n",
    "                <xsl:value-of select=\".\"/>,&#032;\n",
    "            </xsl:for-each>\n",
    "        </INDIVIDUAL_ALIAS>\n",
    "     \n",
    "        <INDIVIDUAL_ADDRESS> <xsl:value-of select=\"INDIVIDUAL_ADDRESS/VALUE\"/></INDIVIDUAL_ADDRESS>\n",
    "        <INDIVIDUAL_DATE_OF_BIRTH><xsl:value-of select=\"INDIVIDUAL_DATE_OF_BIRTH/TYPE_OF_DATE\"/>,&#032;<xsl:value-of select=\"INDIVIDUAL_DATE_OF_BIRTH/YEAR\"/></INDIVIDUAL_DATE_OF_BIRTH>\n",
    "        <INDIVIDUAL_PLACE_OF_BIRTH><xsl:value-of select=\"INDIVIDUAL_PLACE_OF_BIRTH/CITY\"/>,&#032;<xsl:value-of select=\"INDIVIDUAL_PLACE_OF_BIRTH/STATE_PROVINCE\"/>,&#032;<xsl:value-of select=\"INDIVIDUAL_PLACE_OF_BIRTH/COUNTRY\"/></INDIVIDUAL_PLACE_OF_BIRTH>\n",
    "    </INDIVIDUAL>\n",
    "    </xsl:for-each>\n",
    "    <xsl:for-each select = \"CONSOLIDATED_LIST/ENTITIES/ENTITY\">\n",
    "    \n",
    "</xsl:template>\n",
    "    \n",
    "</xsl:stylesheet>'''"
   ]
  },
  {
   "cell_type": "code",
   "execution_count": 43,
   "id": "539bffe7-4393-40e5-b088-3f5150be9761",
   "metadata": {},
   "outputs": [],
   "source": [
    "import xml.etree.ElementTree as ET\n",
    "\n",
    "# Load the XML file\n",
    "tree = ET.parse(\"19Dec2023.xml\")\n",
    "root = tree.getroot()\n",
    "\n",
    "# Initialize a list to hold the extracted data\n",
    "data = []\n",
    "\n",
    "# Loop through each individual in the XML\n",
    "for individual in root.findall(\".//INDIVIDUAL\"):\n",
    "    data_id = individual.findtext(\"DATAID\")\n",
    "    version_num = individual.findtext(\"VERSIONNUM\")\n",
    "    first_name = individual.findtext(\"FIRST_NAME\")\n",
    "    second_name = individual.findtext(\"SECOND_NAME\")\n",
    "    third_name = individual.findtext(\"THIRD_NAME\")\n",
    "    name_original_script = individual.findtext(\"NAME_ORIGINAL_SCRIPT\")\n",
    "    name_original_script = individual.findtext(\"NAME_ORIGINAL_SCRIPT\")\n",
    "\n",
    "    \n",
    "    # Loop through each alias for the individual\n",
    "    for alias in individual.findall(\"INDIVIDUAL_ALIAS\"):\n",
    "        alias_name = alias.findtext(\"ALIAS_NAME\")\n",
    "        quality = alias.findtext(\"QUALITY\")\n",
    "        \n",
    "        # Append the extracted data to the list as a new row\n",
    "        if alias_name:\n",
    "            data.append([alias_name, quality, first_name, second_name, third_name, name_original_script])\n",
    "\n",
    "# Create a DataFrame from the list\n",
    "df = pd.DataFrame(data, columns=[\"Alias Name\", \"Quality\", \"First Name\", \"Second Name\", \"Third Name\", \"Name Original Script\"])\n",
    "\n",
    "# Save the DataFrame to a CSV file\n",
    "df.to_csv(\"C:\\\\Users\\\\acer\\\\Desktop\\\\DEC19_ALIASNAME.csv\", index=False)\n",
    "\n"
   ]
  },
  {
   "cell_type": "code",
   "execution_count": null,
   "id": "fc9bafd8-921a-48c0-a6ba-2c0d0bcf76f9",
   "metadata": {},
   "outputs": [],
   "source": []
  }
 ],
 "metadata": {
  "kernelspec": {
   "display_name": "Python 3 (ipykernel)",
   "language": "python",
   "name": "python3"
  },
  "language_info": {
   "codemirror_mode": {
    "name": "ipython",
    "version": 3
   },
   "file_extension": ".py",
   "mimetype": "text/x-python",
   "name": "python",
   "nbconvert_exporter": "python",
   "pygments_lexer": "ipython3",
   "version": "3.12.4"
  }
 },
 "nbformat": 4,
 "nbformat_minor": 5
}
